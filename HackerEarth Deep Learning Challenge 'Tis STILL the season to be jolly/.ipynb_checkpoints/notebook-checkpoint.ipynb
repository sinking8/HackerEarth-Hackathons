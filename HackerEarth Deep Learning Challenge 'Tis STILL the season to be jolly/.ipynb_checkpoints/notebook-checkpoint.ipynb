{
 "cells": [
  {
   "cell_type": "code",
   "execution_count": 1,
   "metadata": {},
   "outputs": [],
   "source": [
    "import pandas as pd\n",
    "import os\n",
    "import numpy as np"
   ]
  },
  {
   "cell_type": "code",
   "execution_count": 2,
   "metadata": {},
   "outputs": [],
   "source": [
    "data_dir = '\\dataset'\n",
    "labels_dir = data_dir+'\\\\train.csv'\n",
    "\n",
    "Y = pd.read_csv(os.getcwd()+labels_dir,dtype=str)"
   ]
  },
  {
   "cell_type": "code",
   "execution_count": 3,
   "metadata": {},
   "outputs": [],
   "source": [
    "from tensorflow.python.keras.preprocessing.image import ImageDataGenerator\n",
    "import shutil"
   ]
  },
  {
   "cell_type": "code",
   "execution_count": 4,
   "metadata": {},
   "outputs": [],
   "source": [
    "labels = Y['Class']\n",
    "unique_labels = labels.unique()\n",
    "image_names = Y['Image']"
   ]
  },
  {
   "cell_type": "code",
   "execution_count": 5,
   "metadata": {},
   "outputs": [],
   "source": [
    "## Creating Directories\n",
    "def create_directories(unique_labels,directory):\n",
    "    \n",
    "    try:\n",
    "        for unique in unique_labels:\n",
    "            os.mkdir(directory+unique)\n",
    "    \n",
    "    except:\n",
    "        print(\"Some Error Occured\")\n",
    "        \n",
    "    else:\n",
    "        print(\"Created Corresponding Directories\")\n",
    "\n",
    "#create_directories(unique_labels,'.'+data_dir+'\\\\train\\\\')"
   ]
  },
  {
   "cell_type": "code",
   "execution_count": 6,
   "metadata": {},
   "outputs": [],
   "source": [
    "image_dir  = '.'+data_dir+'\\\\train\\\\' \n",
    "\n",
    "## Segregate Images to Directories\n",
    "def move_images(image_names):\n",
    "    for i in range(len(image_names)):\n",
    "        try:        \n",
    "            shutil.move(image_dir+image_names[i],image_dir+labels[i])\n",
    "            print(\"%s Copied to %s\"%(image_names[i],labels[i]))\n",
    "        except:\n",
    "            print(\"Error in Copying\")\n",
    "            continue\n",
    "\n",
    "#move_images(image_names)"
   ]
  },
  {
   "cell_type": "code",
   "execution_count": 7,
   "metadata": {},
   "outputs": [],
   "source": [
    "from tensorflow import keras\n",
    "\n",
    "def load_model():\n",
    "    return keras.models.load_model('Xception_update')\n",
    "\n",
    "def save_model(model):\n",
    "    model.save(\"Xception_update\")"
   ]
  },
  {
   "cell_type": "code",
   "execution_count": 8,
   "metadata": {},
   "outputs": [],
   "source": [
    "#model = load_model()"
   ]
  },
  {
   "cell_type": "markdown",
   "metadata": {},
   "source": [
    "## Image Generators for Training and Validation"
   ]
  },
  {
   "cell_type": "code",
   "execution_count": 9,
   "metadata": {},
   "outputs": [
    {
     "name": "stdout",
     "output_type": "stream",
     "text": [
      "Found 5177 images belonging to 6 classes.\n",
      "Found 1292 images belonging to 6 classes.\n"
     ]
    }
   ],
   "source": [
    "datagen = ImageDataGenerator(rescale=1./255,\n",
    "    shear_range=0.2,\n",
    "    zoom_range=0.2,\n",
    "    horizontal_flip=True,\n",
    "    validation_split=0.2)\n",
    "\n",
    "train_generator = datagen.flow_from_directory(\n",
    "    image_dir,\n",
    "    target_size=(100, 100),\n",
    "    batch_size=16,\n",
    "    class_mode='categorical',\n",
    "    subset='training') # set as training data\n",
    "\n",
    "validation_generator = datagen.flow_from_directory(\n",
    "    image_dir, # same directory as training data\n",
    "    target_size=(100, 100),\n",
    "    batch_size=16,\n",
    "    class_mode='categorical',\n",
    "    subset='validation')"
   ]
  },
  {
   "cell_type": "code",
   "execution_count": 10,
   "metadata": {},
   "outputs": [],
   "source": [
    "import tensorflow as tf"
   ]
  },
  {
   "cell_type": "code",
   "execution_count": 11,
   "metadata": {},
   "outputs": [],
   "source": [
    "def generate_model():\n",
    "\n",
    "    model = tf.keras.Sequential()\n",
    "\n",
    "    model.add(tf.keras.applications.Xception(\n",
    "        include_top=False,\n",
    "        weights=\"imagenet\",\n",
    "        input_shape=(100,100,3),\n",
    "    ))\n",
    "\n",
    "    \n",
    "    model.add(tf.keras.layers.Conv2D(32,(3,3),activation='relu')\n",
    "    model.add(tf.keras.layers.AvgPool2D(2,2))\n",
    "    model.add(tf.keras.layers.Conv2D(32,(3,3),activation='relu'))\n",
    "    model.add(tf.keras.layers.MaxPool2D(2,2))\n",
    "    model.add(tf.keras.layers.Conv2D(32,(3,3),activation='relu'))\n",
    "    model.add(tf.keras.layers.AvgPool2D(2,2))\n",
    "\n",
    "    model.add(tf.keras.layers.Flatten())\n",
    "\n",
    "    model.add(tf.keras.layers.Dense(36,activation='relu'))\n",
    "    model.add(tf.keras.layers.Dense(6,activation='softmax'))\n",
    "\n",
    "    model.compile(optimizer='adam',loss='categorical_crossentropy',metrics=['acc'])\n",
    "    \n",
    "    return model\n",
    "\n",
    "model = generate_model()"
   ]
  },
  {
   "cell_type": "code",
   "execution_count": 12,
   "metadata": {},
   "outputs": [],
   "source": [
    "from tensorflow.keras.callbacks import EarlyStopping\n",
    "early_stop = EarlyStopping(monitor='val_loss',patience=1)"
   ]
  },
  {
   "cell_type": "code",
   "execution_count": null,
   "metadata": {
    "scrolled": true
   },
   "outputs": [
    {
     "name": "stdout",
     "output_type": "stream",
     "text": [
      "Epoch 1/200\n",
      "324/324 [==============================] - 27s 82ms/step - loss: 1.3597 - acc: 0.4829 - val_loss: 1.1823 - val_acc: 0.5704\n",
      "Epoch 2/200\n",
      "324/324 [==============================] - 27s 83ms/step - loss: 1.1781 - acc: 0.5457 - val_loss: 1.1554 - val_acc: 0.5372\n",
      "Epoch 3/200\n",
      "324/324 [==============================] - 26s 82ms/step - loss: 1.0842 - acc: 0.5918 - val_loss: 1.0859 - val_acc: 0.5611\n",
      "Epoch 4/200\n",
      "324/324 [==============================] - 26s 80ms/step - loss: 1.0180 - acc: 0.6129 - val_loss: 1.0188 - val_acc: 0.6293\n",
      "Epoch 5/200\n",
      "235/324 [====================>.........] - ETA: 6s - loss: 0.9791 - acc: 0.6451"
     ]
    }
   ],
   "source": [
    "model.fit(train_generator,validation_data=validation_generator,callbacks=[early_stop],epochs=200)"
   ]
  },
  {
   "cell_type": "code",
   "execution_count": null,
   "metadata": {},
   "outputs": [],
   "source": [
    "## Saving The Model\n",
    "save_model(model)"
   ]
  },
  {
   "cell_type": "markdown",
   "metadata": {},
   "source": [
    "## Generating Predictions"
   ]
  },
  {
   "cell_type": "code",
   "execution_count": null,
   "metadata": {},
   "outputs": [],
   "source": [
    "test_datagen = ImageDataGenerator(rescale=1./255)\n",
    "\n",
    "test_generator = test_datagen.flow_from_directory(\n",
    "    './dataset/test_1',\n",
    "    target_size=(150, 150),\n",
    "    batch_size=1)"
   ]
  },
  {
   "cell_type": "code",
   "execution_count": null,
   "metadata": {},
   "outputs": [],
   "source": [
    "preds=model.predict(test_generator)\n",
    "predicted_class_indices=np.argmax(preds,axis=1)"
   ]
  },
  {
   "cell_type": "code",
   "execution_count": null,
   "metadata": {},
   "outputs": [],
   "source": [
    "labels = (train_generator.class_indices)\n",
    "labels = dict((v,k) for k,v in labels.items())\n",
    "predictions = [labels[k] for k in predicted_class_indices]"
   ]
  },
  {
   "cell_type": "code",
   "execution_count": null,
   "metadata": {},
   "outputs": [],
   "source": [
    "filenames=test_generator.filenames\n",
    "for i in range(len(filenames)):filenames[i] = filenames[i][5:]\n",
    "\n",
    "results=pd.DataFrame({\"Image\":filenames,\n",
    "                      \"Class\":predictions})"
   ]
  },
  {
   "cell_type": "code",
   "execution_count": null,
   "metadata": {},
   "outputs": [],
   "source": [
    "results"
   ]
  },
  {
   "cell_type": "code",
   "execution_count": null,
   "metadata": {},
   "outputs": [],
   "source": []
  }
 ],
 "metadata": {
  "kernelspec": {
   "display_name": "Python 3",
   "language": "python",
   "name": "python3"
  },
  "language_info": {
   "codemirror_mode": {
    "name": "ipython",
    "version": 3
   },
   "file_extension": ".py",
   "mimetype": "text/x-python",
   "name": "python",
   "nbconvert_exporter": "python",
   "pygments_lexer": "ipython3",
   "version": "3.8.5"
  }
 },
 "nbformat": 4,
 "nbformat_minor": 4
}
